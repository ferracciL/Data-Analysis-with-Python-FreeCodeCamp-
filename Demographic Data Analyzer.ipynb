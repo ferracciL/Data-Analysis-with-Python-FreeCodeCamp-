{
 "cells": [
  {
   "cell_type": "code",
   "execution_count": 46,
   "id": "fac3c10f-baf1-497c-8b00-f14eeca369cc",
   "metadata": {},
   "outputs": [
    {
     "data": {
      "text/html": [
       "<div>\n",
       "<style scoped>\n",
       "    .dataframe tbody tr th:only-of-type {\n",
       "        vertical-align: middle;\n",
       "    }\n",
       "\n",
       "    .dataframe tbody tr th {\n",
       "        vertical-align: top;\n",
       "    }\n",
       "\n",
       "    .dataframe thead th {\n",
       "        text-align: right;\n",
       "    }\n",
       "</style>\n",
       "<table border=\"1\" class=\"dataframe\">\n",
       "  <thead>\n",
       "    <tr style=\"text-align: right;\">\n",
       "      <th></th>\n",
       "      <th>age</th>\n",
       "      <th>workclass</th>\n",
       "      <th>fnlwgt</th>\n",
       "      <th>education</th>\n",
       "      <th>education-num</th>\n",
       "      <th>marital-status</th>\n",
       "      <th>occupation</th>\n",
       "      <th>relationship</th>\n",
       "      <th>race</th>\n",
       "      <th>sex</th>\n",
       "      <th>capital-gain</th>\n",
       "      <th>capital-loss</th>\n",
       "      <th>hours-per-week</th>\n",
       "      <th>native-country</th>\n",
       "      <th>salary</th>\n",
       "    </tr>\n",
       "  </thead>\n",
       "  <tbody>\n",
       "    <tr>\n",
       "      <th>0</th>\n",
       "      <td>39</td>\n",
       "      <td>State-gov</td>\n",
       "      <td>77516</td>\n",
       "      <td>Bachelors</td>\n",
       "      <td>13</td>\n",
       "      <td>Never-married</td>\n",
       "      <td>Adm-clerical</td>\n",
       "      <td>Not-in-family</td>\n",
       "      <td>White</td>\n",
       "      <td>Male</td>\n",
       "      <td>2174</td>\n",
       "      <td>0</td>\n",
       "      <td>40</td>\n",
       "      <td>United-States</td>\n",
       "      <td>&lt;=50K</td>\n",
       "    </tr>\n",
       "    <tr>\n",
       "      <th>1</th>\n",
       "      <td>50</td>\n",
       "      <td>Self-emp-not-inc</td>\n",
       "      <td>83311</td>\n",
       "      <td>Bachelors</td>\n",
       "      <td>13</td>\n",
       "      <td>Married-civ-spouse</td>\n",
       "      <td>Exec-managerial</td>\n",
       "      <td>Husband</td>\n",
       "      <td>White</td>\n",
       "      <td>Male</td>\n",
       "      <td>0</td>\n",
       "      <td>0</td>\n",
       "      <td>13</td>\n",
       "      <td>United-States</td>\n",
       "      <td>&lt;=50K</td>\n",
       "    </tr>\n",
       "    <tr>\n",
       "      <th>2</th>\n",
       "      <td>38</td>\n",
       "      <td>Private</td>\n",
       "      <td>215646</td>\n",
       "      <td>HS-grad</td>\n",
       "      <td>9</td>\n",
       "      <td>Divorced</td>\n",
       "      <td>Handlers-cleaners</td>\n",
       "      <td>Not-in-family</td>\n",
       "      <td>White</td>\n",
       "      <td>Male</td>\n",
       "      <td>0</td>\n",
       "      <td>0</td>\n",
       "      <td>40</td>\n",
       "      <td>United-States</td>\n",
       "      <td>&lt;=50K</td>\n",
       "    </tr>\n",
       "    <tr>\n",
       "      <th>3</th>\n",
       "      <td>53</td>\n",
       "      <td>Private</td>\n",
       "      <td>234721</td>\n",
       "      <td>11th</td>\n",
       "      <td>7</td>\n",
       "      <td>Married-civ-spouse</td>\n",
       "      <td>Handlers-cleaners</td>\n",
       "      <td>Husband</td>\n",
       "      <td>Black</td>\n",
       "      <td>Male</td>\n",
       "      <td>0</td>\n",
       "      <td>0</td>\n",
       "      <td>40</td>\n",
       "      <td>United-States</td>\n",
       "      <td>&lt;=50K</td>\n",
       "    </tr>\n",
       "    <tr>\n",
       "      <th>4</th>\n",
       "      <td>28</td>\n",
       "      <td>Private</td>\n",
       "      <td>338409</td>\n",
       "      <td>Bachelors</td>\n",
       "      <td>13</td>\n",
       "      <td>Married-civ-spouse</td>\n",
       "      <td>Prof-specialty</td>\n",
       "      <td>Wife</td>\n",
       "      <td>Black</td>\n",
       "      <td>Female</td>\n",
       "      <td>0</td>\n",
       "      <td>0</td>\n",
       "      <td>40</td>\n",
       "      <td>Cuba</td>\n",
       "      <td>&lt;=50K</td>\n",
       "    </tr>\n",
       "  </tbody>\n",
       "</table>\n",
       "</div>"
      ],
      "text/plain": [
       "   age         workclass  fnlwgt  education  education-num  \\\n",
       "0   39         State-gov   77516  Bachelors             13   \n",
       "1   50  Self-emp-not-inc   83311  Bachelors             13   \n",
       "2   38           Private  215646    HS-grad              9   \n",
       "3   53           Private  234721       11th              7   \n",
       "4   28           Private  338409  Bachelors             13   \n",
       "\n",
       "       marital-status         occupation   relationship   race     sex  \\\n",
       "0       Never-married       Adm-clerical  Not-in-family  White    Male   \n",
       "1  Married-civ-spouse    Exec-managerial        Husband  White    Male   \n",
       "2            Divorced  Handlers-cleaners  Not-in-family  White    Male   \n",
       "3  Married-civ-spouse  Handlers-cleaners        Husband  Black    Male   \n",
       "4  Married-civ-spouse     Prof-specialty           Wife  Black  Female   \n",
       "\n",
       "   capital-gain  capital-loss  hours-per-week native-country salary  \n",
       "0          2174             0              40  United-States  <=50K  \n",
       "1             0             0              13  United-States  <=50K  \n",
       "2             0             0              40  United-States  <=50K  \n",
       "3             0             0              40  United-States  <=50K  \n",
       "4             0             0              40           Cuba  <=50K  "
      ]
     },
     "execution_count": 46,
     "metadata": {},
     "output_type": "execute_result"
    }
   ],
   "source": [
    "#Import Data\n",
    "import pandas as pd\n",
    "Dataset = pd.read_excel('Data_Demographic.xlsx')\n",
    "Dataset = pd.DataFrame(Dataset)\n",
    "Dataset"
   ]
  },
  {
   "cell_type": "code",
   "execution_count": 4,
   "id": "d0d16319-7bc0-4eba-b3aa-e6720a979b5a",
   "metadata": {},
   "outputs": [],
   "source": [
    "#How many people of each race are represented in this dataset? \n",
    "#This should be a Pandas series with race names as the index labels"
   ]
  },
  {
   "cell_type": "code",
   "execution_count": 29,
   "id": "93b88042-49ac-479a-b920-5b75a2515a57",
   "metadata": {},
   "outputs": [
    {
     "name": "stdout",
     "output_type": "stream",
     "text": [
      "<class 'pandas.core.series.Series'>\n",
      "RangeIndex: 5 entries, 0 to 4\n",
      "Series name: race\n",
      "Non-Null Count  Dtype \n",
      "--------------  ----- \n",
      "5 non-null      object\n",
      "dtypes: object(1)\n",
      "memory usage: 172.0+ bytes\n"
     ]
    }
   ],
   "source": [
    "people_of_each_race = Dataset['race']\n",
    "people_of_each_race\n",
    "people_of_each_race.info() #pandas series"
   ]
  },
  {
   "cell_type": "code",
   "execution_count": 30,
   "id": "f1f70801-59bc-42ed-ae65-a4c337d4ffa6",
   "metadata": {},
   "outputs": [
    {
     "data": {
      "text/plain": [
       "0    White\n",
       "1    White\n",
       "2    White\n",
       "3    Black\n",
       "4    Black\n",
       "Name: race, dtype: object"
      ]
     },
     "execution_count": 30,
     "metadata": {},
     "output_type": "execute_result"
    }
   ],
   "source": [
    "people_of_each_race "
   ]
  },
  {
   "cell_type": "code",
   "execution_count": 147,
   "id": "1aada6cd-9c98-4c91-836d-dfe4fc4845ea",
   "metadata": {},
   "outputs": [
    {
     "data": {
      "text/plain": [
       "White    3\n",
       "Black    2\n",
       "Name: count, dtype: int64"
      ]
     },
     "execution_count": 147,
     "metadata": {},
     "output_type": "execute_result"
    }
   ],
   "source": [
    "races =people_of_each_race.value_counts()\n",
    "races = pd.Series(prova)\n",
    "races.index.name=None\n",
    "races"
   ]
  },
  {
   "cell_type": "code",
   "execution_count": 43,
   "id": "f5e5628d-8ecc-433f-8206-751a94ac6758",
   "metadata": {},
   "outputs": [],
   "source": [
    "#What is the average age of men?"
   ]
  },
  {
   "cell_type": "code",
   "execution_count": 49,
   "id": "1311fae8-34fe-4530-b7d4-71f7a0124589",
   "metadata": {},
   "outputs": [
    {
     "data": {
      "text/plain": [
       "np.float64(41.6)"
      ]
     },
     "execution_count": 49,
     "metadata": {},
     "output_type": "execute_result"
    }
   ],
   "source": [
    "men_average=Dataset.loc[:,'age'].mean()\n",
    "men_average"
   ]
  },
  {
   "cell_type": "code",
   "execution_count": 50,
   "id": "53551753-b125-4bbf-a854-9dbb1f03808a",
   "metadata": {},
   "outputs": [],
   "source": [
    "#What is the percentage of people who have a Bachelor's degree?"
   ]
  },
  {
   "cell_type": "code",
   "execution_count": 117,
   "id": "2f21262e-a0e8-41da-a51a-58135120b74f",
   "metadata": {},
   "outputs": [
    {
     "name": "stdout",
     "output_type": "stream",
     "text": [
      "60.0 %\n"
     ]
    }
   ],
   "source": [
    "perc_bachelors_degree = len(Dataset[Dataset.loc[:,'education'] == 'Bachelors'])/len(Dataset.loc[:,'education'])\n",
    "print(perc_bachelors_degree*100, \"%\")"
   ]
  },
  {
   "cell_type": "code",
   "execution_count": 73,
   "id": "669bc317-5cdd-4934-8160-06c5e54d3545",
   "metadata": {},
   "outputs": [],
   "source": [
    "#What percentage of people with advanced education (Bachelors, Masters, or Doctorate) make more than 50K?"
   ]
  },
  {
   "cell_type": "code",
   "execution_count": 124,
   "id": "25a6ab1d-82e8-4097-899b-ea936fc8cbf5",
   "metadata": {},
   "outputs": [
    {
     "name": "stdout",
     "output_type": "stream",
     "text": [
      "0.0 %\n"
     ]
    }
   ],
   "source": [
    "advanced_edu = len(Dataset[(Dataset[\"education\"].isin([\"Bachelors\", \"Masters\", \"Doctorate\"]))&(Dataset.loc[:,'salary']=='>=50k')])\n",
    "people_adv=advanced_edu/len(Dataset)\n",
    "print(people_adv*100, \"%\")"
   ]
  },
  {
   "cell_type": "code",
   "execution_count": 119,
   "id": "4ffa7b2b-d657-43f2-89eb-2bc838ef64e9",
   "metadata": {},
   "outputs": [],
   "source": [
    "#What percentage of people without advanced education make more than 50K?"
   ]
  },
  {
   "cell_type": "code",
   "execution_count": 125,
   "id": "03b92f16-6d07-4d30-96f9-343b9aa3a321",
   "metadata": {},
   "outputs": [
    {
     "name": "stdout",
     "output_type": "stream",
     "text": [
      "0.0 %\n"
     ]
    }
   ],
   "source": [
    "Nadvanced_edu = len(Dataset[~(Dataset[\"education\"].isin([\"Bachelors\", \"Masters\", \"Doctorate\"]))&(Dataset.loc[:,'salary']=='>=50k')])\n",
    "Npeople_adv=Nadvanced_edu/len(Dataset)\n",
    "print(Npeople_adv*100, \"%\")"
   ]
  },
  {
   "cell_type": "code",
   "execution_count": 126,
   "id": "395f76f5-f497-4d50-96e0-e182e1f9ed54",
   "metadata": {},
   "outputs": [],
   "source": [
    "#What is the minimum number of hours a person works per week?"
   ]
  },
  {
   "cell_type": "code",
   "execution_count": 130,
   "id": "256ee4cc-ad4b-4723-9908-04dace1b61e8",
   "metadata": {},
   "outputs": [
    {
     "name": "stdout",
     "output_type": "stream",
     "text": [
      "13\n"
     ]
    }
   ],
   "source": [
    "min_number_per_week = Dataset.loc[:,'hours-per-week'].min()\n",
    "print(min_number_per_week)"
   ]
  },
  {
   "cell_type": "code",
   "execution_count": 131,
   "id": "f94c5a55-ff33-42fe-8de7-a239265f830f",
   "metadata": {},
   "outputs": [],
   "source": [
    "#What percentage of the people who work the minimum number of hours per week have a salary of more than 50K?"
   ]
  },
  {
   "cell_type": "code",
   "execution_count": 135,
   "id": "549f3fe4-9ce2-44f1-ba43-375b5d5acb4b",
   "metadata": {},
   "outputs": [
    {
     "name": "stdout",
     "output_type": "stream",
     "text": [
      "0.0 %\n"
     ]
    }
   ],
   "source": [
    "perc_min_hours_sal_more_than_50k = len(Dataset[(Dataset.loc[:,'hours-per-week'] == 13) & (Dataset.loc[:,'salary'] == '>=50k')])/len(Dataset)\n",
    "print(perc_min_hours_sal_more_than_50k,\"%\")"
   ]
  },
  {
   "cell_type": "code",
   "execution_count": 136,
   "id": "69dbbed3-05ff-4f55-95c1-5e163c1636a5",
   "metadata": {},
   "outputs": [],
   "source": [
    "#What country has the highest percentage of people that earn >50K and what is that percentage?"
   ]
  },
  {
   "cell_type": "code",
   "execution_count": null,
   "id": "fd9716ff-7fcf-4bf1-b403-8c68aeb6baa6",
   "metadata": {},
   "outputs": [],
   "source": []
  },
  {
   "cell_type": "code",
   "execution_count": null,
   "id": "48eaeb64-5121-4a07-b912-52b7e38102dd",
   "metadata": {},
   "outputs": [],
   "source": []
  },
  {
   "cell_type": "code",
   "execution_count": 144,
   "id": "d589db22-d33b-4248-b004-d0cd2e761b9a",
   "metadata": {
    "scrolled": true
   },
   "outputs": [
    {
     "data": {
      "text/plain": [
       "0    United-States\n",
       "4             Cuba\n",
       "Name: native-country, dtype: object"
      ]
     },
     "execution_count": 144,
     "metadata": {},
     "output_type": "execute_result"
    }
   ],
   "source": [
    "countries = Dataset.loc[:,'native-country'].drop_duplicates()\n",
    "countries"
   ]
  },
  {
   "cell_type": "code",
   "execution_count": null,
   "id": "f67c4dbc-0552-4f6e-ac61-776b0be27e7a",
   "metadata": {},
   "outputs": [],
   "source": []
  },
  {
   "cell_type": "code",
   "execution_count": 207,
   "id": "250115f1-491c-41df-b494-9aba2885ad19",
   "metadata": {
    "scrolled": true
   },
   "outputs": [
    {
     "data": {
      "text/html": [
       "<div>\n",
       "<style scoped>\n",
       "    .dataframe tbody tr th:only-of-type {\n",
       "        vertical-align: middle;\n",
       "    }\n",
       "\n",
       "    .dataframe tbody tr th {\n",
       "        vertical-align: top;\n",
       "    }\n",
       "\n",
       "    .dataframe thead th {\n",
       "        text-align: right;\n",
       "    }\n",
       "</style>\n",
       "<table border=\"1\" class=\"dataframe\">\n",
       "  <thead>\n",
       "    <tr style=\"text-align: right;\">\n",
       "      <th></th>\n",
       "      <th>native-country</th>\n",
       "    </tr>\n",
       "  </thead>\n",
       "  <tbody>\n",
       "    <tr>\n",
       "      <th>0</th>\n",
       "      <td>United-States</td>\n",
       "    </tr>\n",
       "    <tr>\n",
       "      <th>1</th>\n",
       "      <td>Cuba</td>\n",
       "    </tr>\n",
       "  </tbody>\n",
       "</table>\n",
       "</div>"
      ],
      "text/plain": [
       "  native-country\n",
       "0  United-States\n",
       "1           Cuba"
      ]
     },
     "execution_count": 207,
     "metadata": {},
     "output_type": "execute_result"
    }
   ],
   "source": [
    "Data2 = pd.DataFrame(countries)\n",
    "Data2.index=range(0,len(Data2))\n",
    "Data2"
   ]
  },
  {
   "cell_type": "code",
   "execution_count": 208,
   "id": "772c60c8-3654-4d27-b76c-195c1c7fd4d1",
   "metadata": {},
   "outputs": [
    {
     "data": {
      "text/html": [
       "<div>\n",
       "<style scoped>\n",
       "    .dataframe tbody tr th:only-of-type {\n",
       "        vertical-align: middle;\n",
       "    }\n",
       "\n",
       "    .dataframe tbody tr th {\n",
       "        vertical-align: top;\n",
       "    }\n",
       "\n",
       "    .dataframe thead th {\n",
       "        text-align: right;\n",
       "    }\n",
       "</style>\n",
       "<table border=\"1\" class=\"dataframe\">\n",
       "  <thead>\n",
       "    <tr style=\"text-align: right;\">\n",
       "      <th></th>\n",
       "      <th>native-country</th>\n",
       "      <th>% people &gt;= 50k</th>\n",
       "    </tr>\n",
       "  </thead>\n",
       "  <tbody>\n",
       "    <tr>\n",
       "      <th>0</th>\n",
       "      <td>United-States</td>\n",
       "      <td>0.0</td>\n",
       "    </tr>\n",
       "    <tr>\n",
       "      <th>1</th>\n",
       "      <td>Cuba</td>\n",
       "      <td>0.0</td>\n",
       "    </tr>\n",
       "  </tbody>\n",
       "</table>\n",
       "</div>"
      ],
      "text/plain": [
       "  native-country  % people >= 50k\n",
       "0  United-States              0.0\n",
       "1           Cuba              0.0"
      ]
     },
     "execution_count": 208,
     "metadata": {},
     "output_type": "execute_result"
    }
   ],
   "source": [
    "for country in Data2[\"native-country\"]:\n",
    "    subset = Dataset[Dataset.loc[:,'native-country']== country]\n",
    "    ratio = (subset[\"salary\"] == \"<=50K\").mean() * 100\n",
    "    Data2.loc[Data2[\"native-country\"] == country,\"% people >= 50k\"] = 100-ratio\n",
    "\n",
    "Data2"
   ]
  },
  {
   "cell_type": "code",
   "execution_count": 205,
   "id": "07fba63d-6a51-4643-b9ae-54c57cbe4919",
   "metadata": {},
   "outputs": [],
   "source": [
    "#Identify the most popular occupation for those who earn >50K in India."
   ]
  },
  {
   "cell_type": "code",
   "execution_count": 218,
   "id": "f08ac13a-2b9e-4cd2-92a9-5040358e89db",
   "metadata": {},
   "outputs": [
    {
     "data": {
      "text/plain": [
       "Series([], Name: count, dtype: int64)"
      ]
     },
     "execution_count": 218,
     "metadata": {},
     "output_type": "execute_result"
    }
   ],
   "source": [
    "Dataset[\"native-country\"] = Dataset[\"native-country\"].str.strip() #space cleaning\n",
    "Dataset[\"salary\"] = Dataset[\"salary\"].str.strip() \n",
    "\n",
    "Data3= Dataset[(Dataset[\"native-country\"] == \"India\") &\n",
    "        (Dataset[\"salary\"] == \">=50K\")]\n",
    "\n",
    "Most_popular_occupation=Data3.loc[:,\"occupation\"].value_counts()\n",
    "Most_popular_occupation"
   ]
  },
  {
   "cell_type": "code",
   "execution_count": null,
   "id": "107294cd-c3ae-4178-ae1f-023721ac6ff6",
   "metadata": {},
   "outputs": [],
   "source": []
  }
 ],
 "metadata": {
  "kernelspec": {
   "display_name": "Python 3 (ipykernel)",
   "language": "python",
   "name": "python3"
  },
  "language_info": {
   "codemirror_mode": {
    "name": "ipython",
    "version": 3
   },
   "file_extension": ".py",
   "mimetype": "text/x-python",
   "name": "python",
   "nbconvert_exporter": "python",
   "pygments_lexer": "ipython3",
   "version": "3.13.0"
  }
 },
 "nbformat": 4,
 "nbformat_minor": 5
}
