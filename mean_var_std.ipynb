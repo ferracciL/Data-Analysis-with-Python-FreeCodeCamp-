{
 "cells": [
  {
   "cell_type": "markdown",
   "id": "920df538-8efd-491b-921a-792caf81996d",
   "metadata": {},
   "source": [
    "**#Create a list containing nine random elements**"
   ]
  },
  {
   "cell_type": "code",
   "execution_count": 2,
   "id": "d11e9bfb-6d1b-4eda-9306-d7a40dddb99b",
   "metadata": {},
   "outputs": [
    {
     "data": {
      "text/plain": [
       "[4, 26, 28, 13, 6, 5, 2, 0, 25]"
      ]
     },
     "execution_count": 2,
     "metadata": {},
     "output_type": "execute_result"
    }
   ],
   "source": [
    "import random\n",
    "\n",
    "flattened_matrix= [random.randint(0,30) for _ in range(9)]\n",
    "flattened_matrix"
   ]
  },
  {
   "cell_type": "markdown",
   "id": "d64b6605-1146-4309-aeb5-ce0d1135cdc7",
   "metadata": {},
   "source": [
    "**#Create the function \"calculate\"**"
   ]
  },
  {
   "cell_type": "code",
   "execution_count": 3,
   "id": "d8a6757d-5223-4f0a-84a7-246af3f71a57",
   "metadata": {},
   "outputs": [],
   "source": [
    "import numpy as np\n",
    "\n",
    "def calculate(list):\n",
    "    \n",
    "   \n",
    "    \n",
    "    if len(list) < 9:\n",
    "       return print(\"List must contains nine numbers\")\n",
    "    else:\n",
    "    \n",
    "       #Array\n",
    "       array3_3= np.array(list, dtype='float').reshape(3,3)\n",
    "       \n",
    "       # Sum list\n",
    "       mean_total = sum(list)/len(list)\n",
    "    \n",
    "        # Var list\n",
    "       variance_total = sum((x - mean_total)**2 for x in list)/len(list)\n",
    "    \n",
    "        # Std list\n",
    "       std_total = variance_total ** 0.5\n",
    "        \n",
    "       Dic = {\n",
    "              'mean': [np.mean(array3_3,axis=0).tolist(), \n",
    "                       np.mean(array3_3,axis=1).tolist(), \n",
    "                       mean_total],\n",
    "              \n",
    "              'variance': [np.var(array3_3,axis=0).tolist(), \n",
    "                           np.var(array3_3,axis=1).tolist(), \n",
    "                           variance_total],\n",
    "              \n",
    "              'standard deviation': [np.std(array3_3,axis=0).tolist(), \n",
    "                                     np.std(array3_3,axis=1).tolist(), \n",
    "                                     std_total],\n",
    "            \n",
    "              'max': [np.max(array3_3,axis=0).tolist(), \n",
    "                      np.max(array3_3,axis=1).tolist(), \n",
    "                      max(list)],\n",
    "              \n",
    "              'min': [np.min(array3_3,axis=0).tolist(), \n",
    "                      np.min(array3_3,axis=1).tolist(), \n",
    "                      min(list)],\n",
    "              \n",
    "              'sum': [np.sum(array3_3,axis=0).tolist(), \n",
    "                      np.sum(array3_3,axis=1).tolist(), \n",
    "                      sum(list)]\n",
    "           }\n",
    "       return Dic\n"
   ]
  },
  {
   "cell_type": "markdown",
   "id": "cf155ed7-f57c-4a36-90e3-b752a492e676",
   "metadata": {},
   "source": [
    "**#Results**"
   ]
  },
  {
   "cell_type": "code",
   "execution_count": 4,
   "id": "9da475bc-8333-43b9-bd30-65fc8a04f4d6",
   "metadata": {},
   "outputs": [
    {
     "name": "stdout",
     "output_type": "stream",
     "text": [
      "{'mean': [[6.333333333333333, 10.666666666666666, 19.333333333333332], [19.333333333333332, 8.0, 9.0], 12.11111111111111], 'variance': [[22.88888888888889, 123.55555555555556, 104.22222222222223], [118.22222222222223, 12.666666666666666, 128.66666666666666], 112.76543209876543], 'standard deviation': [[4.784233364802441, 11.115554667022044, 10.208928554075703], [10.873004286866728, 3.559026084010437, 11.343133018115703], 10.619106935084769], 'max': [[13.0, 26.0, 28.0], [28.0, 13.0, 25.0], 28], 'min': [[2.0, 0.0, 5.0], [4.0, 5.0, 0.0], 0], 'sum': [[19.0, 32.0, 58.0], [58.0, 24.0, 27.0], 109]}\n"
     ]
    }
   ],
   "source": [
    "a=calculate(flattened_matrix)\n",
    "     \n",
    "print(a)"
   ]
  },
  {
   "cell_type": "code",
   "execution_count": null,
   "id": "09735b05-2843-4b3a-b376-7abd6639d437",
   "metadata": {},
   "outputs": [],
   "source": []
  }
 ],
 "metadata": {
  "kernelspec": {
   "display_name": "Python 3 (ipykernel)",
   "language": "python",
   "name": "python3"
  },
  "language_info": {
   "codemirror_mode": {
    "name": "ipython",
    "version": 3
   },
   "file_extension": ".py",
   "mimetype": "text/x-python",
   "name": "python",
   "nbconvert_exporter": "python",
   "pygments_lexer": "ipython3",
   "version": "3.13.0"
  }
 },
 "nbformat": 4,
 "nbformat_minor": 5
}
